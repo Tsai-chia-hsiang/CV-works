{
 "cells": [
  {
   "cell_type": "code",
   "execution_count": 130,
   "metadata": {},
   "outputs": [],
   "source": [
    "import os\n",
    "import os.path as osp\n",
    "import numpy as np\n",
    "import cv2\n",
    "import matplotlib.pyplot as plt\n",
    "\n",
    "from ImageFeatureExtraction.kernel import gaussian_kernel\n",
    "from ImageFeatureExtraction.operation import Conv2D"
   ]
  },
  {
   "cell_type": "code",
   "execution_count": 2,
   "metadata": {},
   "outputs": [],
   "source": [
    "def imcompare(imgs:list):\n",
    "    plt.figure(dpi=500)\n",
    "    plt.imshow(np.hstack(imgs), cmap='gray')\n",
    "    plt.show()"
   ]
  },
  {
   "cell_type": "code",
   "execution_count": 3,
   "metadata": {},
   "outputs": [
    {
     "data": {
      "text/plain": [
       "(608, 1080)"
      ]
     },
     "execution_count": 3,
     "metadata": {},
     "output_type": "execute_result"
    }
   ],
   "source": [
    "testimg = cv2.imread(osp.join(\"demo\", \"dog.jpg\"), 0).astype(np.float32)\n",
    "testimg.shape"
   ]
  },
  {
   "cell_type": "code",
   "execution_count": 108,
   "metadata": {},
   "outputs": [],
   "source": [
    "def DoG_pyramid(img:np.ndarray, scale_num=5,sigma:float=1.6)->np.ndarray:\n",
    "    k = 2**(1/(scale_num-1))\n",
    "    kernels = gaussian_kernel(ksize=7, sigma=[sigma*(k**i) for i in range(scale_num)])\n",
    "    doglist = [Conv2D(img, kernels[i+1]-kernels[i]) for i in range(len(kernels)-1)]\n",
    "    return np.dstack(doglist)\n",
    "\n"
   ]
  },
  {
   "cell_type": "code",
   "execution_count": 123,
   "metadata": {},
   "outputs": [],
   "source": [
    "def Scale_Space_Extrema_Detection(cmp:np.ndarray)->np.ndarray:\n",
    "    extrema_idx = np.zeros((cmp.shape[0],cmp.shape[1]),dtype=np.int32)\n",
    "    for k in range(1, cmp.shape[2]-1):\n",
    "        for i in range(cmp.shape[0]):\n",
    "            x_start = i-1 if i-1> 0 else 0\n",
    "            for j in range(cmp.shape[1]):\n",
    "                y_start = j-1 if j-1 > 0 else 0\n",
    "                cube = cmp[x_start:i+2, y_start:j+2, k-1:k+2].transpose((2,0,1))\n",
    "                cx, cy, cz = 1,1 if i-1 >= 0 else 0, 1 if j-1 >= 0 else 0\n",
    "                center = cube[cx, cy, cz]\n",
    "                rmax= (center >= cube).astype(np.int32)\n",
    "                if np.sum(rmax) == cube.size:\n",
    "                    extrema_idx[i,j] = 1\n",
    "                    continue\n",
    "                rmin = (center <= cube).astype(np.int32)\n",
    "                if np.sum(rmin) == cube.size :\n",
    "                    extrema_idx[i,j] = 1\n",
    "    return extrema_idx\n",
    "    "
   ]
  },
  {
   "cell_type": "code",
   "execution_count": 124,
   "metadata": {},
   "outputs": [
    {
     "name": "stdout",
     "output_type": "stream",
     "text": [
      "1\n",
      "2\n"
     ]
    }
   ],
   "source": [
    "K = Scale_Space_Extrema_Detection(DoG_pyramid(img=testimg))"
   ]
  },
  {
   "cell_type": "code",
   "execution_count": 125,
   "metadata": {},
   "outputs": [],
   "source": [
    "see = testimg*(1+K*255)\n"
   ]
  }
 ],
 "metadata": {
  "kernelspec": {
   "display_name": "py",
   "language": "python",
   "name": "python3"
  },
  "language_info": {
   "codemirror_mode": {
    "name": "ipython",
    "version": 3
   },
   "file_extension": ".py",
   "mimetype": "text/x-python",
   "name": "python",
   "nbconvert_exporter": "python",
   "pygments_lexer": "ipython3",
   "version": "3.11.3"
  }
 },
 "nbformat": 4,
 "nbformat_minor": 2
}
