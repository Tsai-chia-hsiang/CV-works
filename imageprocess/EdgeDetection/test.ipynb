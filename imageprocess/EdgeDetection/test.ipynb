{
 "cells": [
  {
   "cell_type": "code",
   "execution_count": 1,
   "metadata": {},
   "outputs": [],
   "source": [
    "import numpy as np"
   ]
  },
  {
   "cell_type": "code",
   "execution_count": 5,
   "metadata": {},
   "outputs": [
    {
     "name": "stdout",
     "output_type": "stream",
     "text": [
      "[[[1 7 3]\n",
      "  [2 8 1]]\n",
      "\n",
      " [[4 0 2]\n",
      "  [5 1 5]]]\n",
      "(2, 2, 3)\n"
     ]
    }
   ],
   "source": [
    "x = np.dstack(\n",
    "    [   [\n",
    "            [1,2],\n",
    "            [4,5]\n",
    "        ],\n",
    "        [\n",
    "            [7,8],\n",
    "            [0,1]\n",
    "        ],\n",
    "        [\n",
    "            [3,1],\n",
    "            [2,5]\n",
    "        ]\n",
    "    ]\n",
    ")\n",
    "print(x)\n",
    "print(x.shape)"
   ]
  },
  {
   "cell_type": "code",
   "execution_count": 19,
   "metadata": {},
   "outputs": [
    {
     "data": {
      "text/plain": [
       "array([[[ 1, 49,  9],\n",
       "        [ 4, 64,  1]],\n",
       "\n",
       "       [[16,  0,  4],\n",
       "        [25,  1, 25]]])"
      ]
     },
     "execution_count": 19,
     "metadata": {},
     "output_type": "execute_result"
    }
   ],
   "source": [
    "x*x"
   ]
  },
  {
   "cell_type": "code",
   "execution_count": 14,
   "metadata": {},
   "outputs": [
    {
     "name": "stdout",
     "output_type": "stream",
     "text": [
      "[[[1 2]\n",
      "  [7 8]\n",
      "  [3 1]]\n",
      "\n",
      " [[4 5]\n",
      "  [0 1]\n",
      "  [2 5]]]\n",
      "(2, 3, 2)\n"
     ]
    }
   ],
   "source": [
    "xt = np.transpose(x, (0,2,1))\n",
    "print(xt)\n",
    "print(xt.shape)"
   ]
  },
  {
   "cell_type": "code",
   "execution_count": 17,
   "metadata": {},
   "outputs": [
    {
     "name": "stdout",
     "output_type": "stream",
     "text": [
      "[[[59 61]\n",
      "  [61 69]]\n",
      "\n",
      " [[20 30]\n",
      "  [30 51]]]\n",
      "(2, 2, 3)\n"
     ]
    }
   ],
   "source": [
    "xx = x@xt\n",
    "print(xx)\n",
    "print(x.shape)"
   ]
  }
 ],
 "metadata": {
  "kernelspec": {
   "display_name": "py",
   "language": "python",
   "name": "python3"
  },
  "language_info": {
   "codemirror_mode": {
    "name": "ipython",
    "version": 3
   },
   "file_extension": ".py",
   "mimetype": "text/x-python",
   "name": "python",
   "nbconvert_exporter": "python",
   "pygments_lexer": "ipython3",
   "version": "3.11.3"
  },
  "orig_nbformat": 4
 },
 "nbformat": 4,
 "nbformat_minor": 2
}
